{
 "cells": [
  {
   "cell_type": "code",
   "execution_count": 1,
   "id": "2f377906",
   "metadata": {},
   "outputs": [],
   "source": [
    "from datetime import datetime\n",
    "from peewee import (\n",
    "    SqliteDatabase, Model, TextField, ForeignKeyField,\n",
    "    DateTimeField, IntegerField\n",
    ")"
   ]
  },
  {
   "cell_type": "code",
   "execution_count": 2,
   "id": "17fb2717",
   "metadata": {},
   "outputs": [],
   "source": [
    "db = SqliteDatabase('notas.db')\n",
    "\n",
    "class BaseModel(Model):\n",
    "    class Meta:\n",
    "        database = db"
   ]
  },
  {
   "cell_type": "code",
   "execution_count": 3,
   "id": "4012aead",
   "metadata": {},
   "outputs": [],
   "source": [
    "class Pessoa(BaseModel):\n",
    "    nome = TextField()\n",
    "    email = TextField(unique=True)\n",
    "    senha = TextField()\n",
    "    idade = IntegerField()\n",
    "\n",
    "\n",
    "class Grupo(BaseModel):\n",
    "    nome = TextField()\n",
    "    dona = ForeignKeyField(Pessoa, backref='grupos')\n",
    "\n",
    "\n",
    "class Nota(BaseModel):\n",
    "    dona = ForeignKeyField(Pessoa, backref='notas')\n",
    "    grupo = ForeignKeyField(Grupo, backref='notas', null=True, default=None)\n",
    "    titulo = TextField()\n",
    "    nota = TextField()\n",
    "    criada_em = DateTimeField(default=datetime.now)\n",
    "    modificada_em = DateTimeField(default=datetime.now)"
   ]
  },
  {
   "cell_type": "code",
   "execution_count": 4,
   "id": "04d18c54",
   "metadata": {},
   "outputs": [],
   "source": [
    "Pessoa.create_table()\n",
    "db.create_tables([Grupo, Nota])"
   ]
  },
  {
   "cell_type": "markdown",
   "id": "9b72589a",
   "metadata": {},
   "source": [
    "### aula 2"
   ]
  },
  {
   "cell_type": "code",
   "execution_count": 5,
   "id": "62ef42e5",
   "metadata": {},
   "outputs": [],
   "source": [
    "eduardo = Pessoa(\n",
    "    nome='eduardo',\n",
    "    idade=18,\n",
    "    senha='1234567',\n",
    "    email='eu@dunossauro.live'\n",
    ")"
   ]
  },
  {
   "cell_type": "code",
   "execution_count": 6,
   "id": "001efe86",
   "metadata": {},
   "outputs": [
    {
     "data": {
      "text/plain": [
       "1"
      ]
     },
     "execution_count": 6,
     "metadata": {},
     "output_type": "execute_result"
    }
   ],
   "source": [
    "eduardo.save()"
   ]
  },
  {
   "cell_type": "code",
   "execution_count": 7,
   "id": "f25f1dce",
   "metadata": {},
   "outputs": [
    {
     "data": {
      "text/plain": [
       "3"
      ]
     },
     "execution_count": 7,
     "metadata": {},
     "output_type": "execute_result"
    }
   ],
   "source": [
    "pessoas = [\n",
    "    {'nome': 'Irmão do jorel', 'email': 'irmao@live', 'idade': 1, 'senha': '123'},\n",
    "    {'nome': 'Gesonel', 'email': 'gesinho@live', 'idade': 1, 'senha': '123'},\n",
    "    {'nome': 'Lara', 'email': 'lara@live', 'idade': 1, 'senha': '123'},\n",
    "]\n",
    "\n",
    "Pessoa.insert_many(pessoas).execute()"
   ]
  },
  {
   "cell_type": "code",
   "execution_count": 13,
   "id": "6dffe2dd",
   "metadata": {},
   "outputs": [],
   "source": [
    "x = Pessoa.select()"
   ]
  },
  {
   "cell_type": "code",
   "execution_count": 14,
   "id": "f93107a6",
   "metadata": {},
   "outputs": [
    {
     "name": "stdout",
     "output_type": "stream",
     "text": [
      "eduardo\n",
      "Irmão do jorel\n",
      "Gesonel\n",
      "Lara\n"
     ]
    }
   ],
   "source": [
    "for pessoa in x:\n",
    "    print(pessoa.nome)"
   ]
  },
  {
   "cell_type": "code",
   "execution_count": null,
   "id": "ecc1917d",
   "metadata": {},
   "outputs": [],
   "source": []
  }
 ],
 "metadata": {
  "kernelspec": {
   "display_name": "Python 3",
   "language": "python",
   "name": "python3"
  },
  "language_info": {
   "codemirror_mode": {
    "name": "ipython",
    "version": 3
   },
   "file_extension": ".py",
   "mimetype": "text/x-python",
   "name": "python",
   "nbconvert_exporter": "python",
   "pygments_lexer": "ipython3",
   "version": "3.8.8"
  }
 },
 "nbformat": 4,
 "nbformat_minor": 5
}
