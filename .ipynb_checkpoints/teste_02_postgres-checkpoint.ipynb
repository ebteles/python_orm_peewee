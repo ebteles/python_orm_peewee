{
 "cells": [
  {
   "cell_type": "code",
   "execution_count": 1,
   "id": "10b2aaae",
   "metadata": {},
   "outputs": [],
   "source": [
    "import os\n",
    "from datetime import datetime, timezone\n",
    "from peewee import Model, PostgresqlDatabase #, DatabaseProxy\n",
    "from playhouse.postgres_ext import *"
   ]
  },
  {
   "cell_type": "code",
   "execution_count": 2,
   "id": "f94d83ab",
   "metadata": {},
   "outputs": [],
   "source": [
    "db = PostgresqlDatabase(\n",
    "    \"postgres\",\n",
    "    user=\"postgres\",\n",
    "    password=\"vitadev100a\",\n",
    "    host=\"localhost\",\n",
    "    port=5432\n",
    ")"
   ]
  },
  {
   "cell_type": "code",
   "execution_count": 3,
   "id": "a765ed03",
   "metadata": {},
   "outputs": [],
   "source": [
    "class BaseModel(Model):\n",
    "    \n",
    "    class Meta:\n",
    "        database = db\n"
   ]
  },
  {
   "cell_type": "code",
   "execution_count": 4,
   "id": "7b16437b",
   "metadata": {},
   "outputs": [],
   "source": [
    "from peewee import (\n",
    "    AutoField,\n",
    "    CharField,\n",
    "    DateTimeField,\n",
    "    IntegerField,\n",
    "    TextField,\n",
    "    # ForeignKeyField\n",
    ")"
   ]
  },
  {
   "cell_type": "code",
   "execution_count": 5,
   "id": "b55fb36a",
   "metadata": {},
   "outputs": [],
   "source": [
    "class TbUsuario(BaseModel):\n",
    "\n",
    "    id = AutoField()\n",
    "    email = CharField(unique=True, max_length=50)\n",
    "    nome = CharField(null=True, max_length=70)\n",
    "    status = CharField(max_length=1, constraints=[SQL(\"DEFAULT 'A'::bpchar\")])\n",
    "    senha = CharField(max_length=100)\n",
    "    info = JSONField(null=True)\n",
    "    data_alteracao = DateTimeField(constraints=[SQL(\"DEFAULT CURRENT_DATE\")], null=True)\n",
    "    data_criacao = DateTimeField()\n",
    "\n",
    "    class Meta:\n",
    "        table_name = 'tb_usuario'"
   ]
  },
  {
   "cell_type": "code",
   "execution_count": 6,
   "id": "b7b8e9f8",
   "metadata": {},
   "outputs": [
    {
     "data": {
      "text/plain": [
       "<peewee.ModelSelect at 0x22d5c698cd0>"
      ]
     },
     "metadata": {},
     "output_type": "display_data"
    }
   ],
   "source": [
    "usuarios = TbUsuario.select()\n",
    "display(usuarios)"
   ]
  },
  {
   "cell_type": "code",
   "execution_count": 7,
   "id": "5195e180",
   "metadata": {},
   "outputs": [],
   "source": [
    "usuarios2 = TbUsuario.select()"
   ]
  },
  {
   "cell_type": "code",
   "execution_count": 8,
   "id": "e377154a",
   "metadata": {},
   "outputs": [
    {
     "name": "stdout",
     "output_type": "stream",
     "text": [
      "2021-04-24 00:00:00+00:00\n"
     ]
    }
   ],
   "source": [
    "print(usuarios2.first().data_criacao)"
   ]
  },
  {
   "cell_type": "code",
   "execution_count": 9,
   "id": "3b64a880",
   "metadata": {},
   "outputs": [
    {
     "name": "stdout",
     "output_type": "stream",
     "text": [
      "ebteles@gmail.com\n"
     ]
    }
   ],
   "source": [
    "for usuario in usuarios:\n",
    "    print(usuario.email)"
   ]
  },
  {
   "cell_type": "code",
   "execution_count": null,
   "id": "8dfb3c6e",
   "metadata": {},
   "outputs": [],
   "source": [
    "novo_usuario = {\n",
    "    \"email\": \"ebteles@yahoo.com.br\",\n",
    "    \"status\": \"A\",\n",
    "    \"senha\": \"Teles123\",\n",
    "    \"data_criacao\": datetime,\n",
    "    \"data_atualizacao\": datetime\n",
    "}"
   ]
  },
  {
   "cell_type": "code",
   "execution_count": null,
   "id": "87c4f46b",
   "metadata": {},
   "outputs": [],
   "source": [
    "TbUsuario.insert(novo_usuario)"
   ]
  },
  {
   "cell_type": "code",
   "execution_count": null,
   "id": "f2f3127c",
   "metadata": {},
   "outputs": [],
   "source": [
    "from psycopg2.extras import register_hstore"
   ]
  },
  {
   "cell_type": "code",
   "execution_count": null,
   "id": "7154b4be",
   "metadata": {},
   "outputs": [],
   "source": [
    "from psycopg2.extras import Json"
   ]
  },
  {
   "cell_type": "code",
   "execution_count": 10,
   "id": "d18e559e",
   "metadata": {},
   "outputs": [
    {
     "ename": "NameError",
     "evalue": "name '__version__' is not defined",
     "output_type": "error",
     "traceback": [
      "\u001b[1;31m---------------------------------------------------------------------------\u001b[0m",
      "\u001b[1;31mNameError\u001b[0m                                 Traceback (most recent call last)",
      "\u001b[1;32m<ipython-input-10-566b4646f4e5>\u001b[0m in \u001b[0;36m<module>\u001b[1;34m\u001b[0m\n\u001b[1;32m----> 1\u001b[1;33m \u001b[0m__version__\u001b[0m\u001b[1;33m\u001b[0m\u001b[1;33m\u001b[0m\u001b[0m\n\u001b[0m",
      "\u001b[1;31mNameError\u001b[0m: name '__version__' is not defined"
     ]
    }
   ],
   "source": [
    "__version__\n"
   ]
  },
  {
   "cell_type": "code",
   "execution_count": 11,
   "id": "544c6c5e",
   "metadata": {},
   "outputs": [
    {
     "ename": "NameError",
     "evalue": "name 'version' is not defined",
     "output_type": "error",
     "traceback": [
      "\u001b[1;31m---------------------------------------------------------------------------\u001b[0m",
      "\u001b[1;31mNameError\u001b[0m                                 Traceback (most recent call last)",
      "\u001b[1;32m<ipython-input-11-4bc6a30f992c>\u001b[0m in \u001b[0;36m<module>\u001b[1;34m\u001b[0m\n\u001b[1;32m----> 1\u001b[1;33m \u001b[1;33m-\u001b[0m\u001b[1;33m-\u001b[0m\u001b[0mversion\u001b[0m\u001b[1;33m\u001b[0m\u001b[1;33m\u001b[0m\u001b[0m\n\u001b[0m",
      "\u001b[1;31mNameError\u001b[0m: name 'version' is not defined"
     ]
    }
   ],
   "source": [
    "--version"
   ]
  },
  {
   "cell_type": "code",
   "execution_count": 13,
   "id": "14d3169c",
   "metadata": {},
   "outputs": [
    {
     "name": "stdout",
     "output_type": "stream",
     "text": [
      "Python 3.8.8\n"
     ]
    }
   ],
   "source": [
    "!python --version"
   ]
  },
  {
   "cell_type": "code",
   "execution_count": null,
   "id": "becc6726",
   "metadata": {},
   "outputs": [],
   "source": []
  }
 ],
 "metadata": {
  "kernelspec": {
   "display_name": "Python 3",
   "language": "python",
   "name": "python3"
  },
  "language_info": {
   "codemirror_mode": {
    "name": "ipython",
    "version": 3
   },
   "file_extension": ".py",
   "mimetype": "text/x-python",
   "name": "python",
   "nbconvert_exporter": "python",
   "pygments_lexer": "ipython3",
   "version": "3.8.8"
  }
 },
 "nbformat": 4,
 "nbformat_minor": 5
}
